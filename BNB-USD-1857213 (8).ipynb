{
 "cells": [
  {
   "cell_type": "code",
   "execution_count": 1,
   "id": "ea19086d",
   "metadata": {},
   "outputs": [],
   "source": [
    "import yfinance as yf\n",
    "import numpy as np\n",
    "import pandas as pd\n",
    "import matplotlib as mpl\n",
    "import matplotlib.pyplot as plt"
   ]
  },
  {
   "cell_type": "code",
   "execution_count": 2,
   "id": "b784ee6a",
   "metadata": {},
   "outputs": [
    {
     "name": "stdout",
     "output_type": "stream",
     "text": [
      "[*********************100%***********************]  1 of 1 completed\n"
     ]
    }
   ],
   "source": [
    "data = yf.download(\"BNB-USD\", start=\"2021-03-25\", end=\"2022-03-25\")#Download data from yahoo finance for Solana Coin"
   ]
  },
  {
   "cell_type": "code",
   "execution_count": 3,
   "id": "1d44ddfc",
   "metadata": {},
   "outputs": [
    {
     "data": {
      "text/html": [
       "<div>\n",
       "<style scoped>\n",
       "    .dataframe tbody tr th:only-of-type {\n",
       "        vertical-align: middle;\n",
       "    }\n",
       "\n",
       "    .dataframe tbody tr th {\n",
       "        vertical-align: top;\n",
       "    }\n",
       "\n",
       "    .dataframe thead th {\n",
       "        text-align: right;\n",
       "    }\n",
       "</style>\n",
       "<table border=\"1\" class=\"dataframe\">\n",
       "  <thead>\n",
       "    <tr style=\"text-align: right;\">\n",
       "      <th></th>\n",
       "      <th>Open</th>\n",
       "      <th>High</th>\n",
       "      <th>Low</th>\n",
       "      <th>Close</th>\n",
       "      <th>Adj Close</th>\n",
       "      <th>Volume</th>\n",
       "    </tr>\n",
       "    <tr>\n",
       "      <th>Date</th>\n",
       "      <th></th>\n",
       "      <th></th>\n",
       "      <th></th>\n",
       "      <th></th>\n",
       "      <th></th>\n",
       "      <th></th>\n",
       "    </tr>\n",
       "  </thead>\n",
       "  <tbody>\n",
       "    <tr>\n",
       "      <th>2021-03-25</th>\n",
       "      <td>249.465912</td>\n",
       "      <td>250.139236</td>\n",
       "      <td>227.294067</td>\n",
       "      <td>234.885437</td>\n",
       "      <td>234.885437</td>\n",
       "      <td>2314734091</td>\n",
       "    </tr>\n",
       "    <tr>\n",
       "      <th>2021-03-26</th>\n",
       "      <td>234.790939</td>\n",
       "      <td>255.104568</td>\n",
       "      <td>234.790939</td>\n",
       "      <td>255.104568</td>\n",
       "      <td>255.104568</td>\n",
       "      <td>2099285452</td>\n",
       "    </tr>\n",
       "    <tr>\n",
       "      <th>2021-03-27</th>\n",
       "      <td>255.116486</td>\n",
       "      <td>275.593384</td>\n",
       "      <td>250.494797</td>\n",
       "      <td>269.102325</td>\n",
       "      <td>269.102325</td>\n",
       "      <td>2457659540</td>\n",
       "    </tr>\n",
       "    <tr>\n",
       "      <th>2021-03-28</th>\n",
       "      <td>269.310730</td>\n",
       "      <td>280.992401</td>\n",
       "      <td>262.288666</td>\n",
       "      <td>269.191284</td>\n",
       "      <td>269.191284</td>\n",
       "      <td>2527142069</td>\n",
       "    </tr>\n",
       "    <tr>\n",
       "      <th>2021-03-29</th>\n",
       "      <td>268.969391</td>\n",
       "      <td>277.479004</td>\n",
       "      <td>265.367828</td>\n",
       "      <td>275.214630</td>\n",
       "      <td>275.214630</td>\n",
       "      <td>2067448661</td>\n",
       "    </tr>\n",
       "  </tbody>\n",
       "</table>\n",
       "</div>"
      ],
      "text/plain": [
       "                  Open        High         Low       Close   Adj Close  \\\n",
       "Date                                                                     \n",
       "2021-03-25  249.465912  250.139236  227.294067  234.885437  234.885437   \n",
       "2021-03-26  234.790939  255.104568  234.790939  255.104568  255.104568   \n",
       "2021-03-27  255.116486  275.593384  250.494797  269.102325  269.102325   \n",
       "2021-03-28  269.310730  280.992401  262.288666  269.191284  269.191284   \n",
       "2021-03-29  268.969391  277.479004  265.367828  275.214630  275.214630   \n",
       "\n",
       "                Volume  \n",
       "Date                    \n",
       "2021-03-25  2314734091  \n",
       "2021-03-26  2099285452  \n",
       "2021-03-27  2457659540  \n",
       "2021-03-28  2527142069  \n",
       "2021-03-29  2067448661  "
      ]
     },
     "execution_count": 3,
     "metadata": {},
     "output_type": "execute_result"
    }
   ],
   "source": [
    "data.head()"
   ]
  },
  {
   "cell_type": "code",
   "execution_count": 4,
   "id": "7a94f30f",
   "metadata": {},
   "outputs": [
    {
     "data": {
      "text/html": [
       "<div>\n",
       "<style scoped>\n",
       "    .dataframe tbody tr th:only-of-type {\n",
       "        vertical-align: middle;\n",
       "    }\n",
       "\n",
       "    .dataframe tbody tr th {\n",
       "        vertical-align: top;\n",
       "    }\n",
       "\n",
       "    .dataframe thead th {\n",
       "        text-align: right;\n",
       "    }\n",
       "</style>\n",
       "<table border=\"1\" class=\"dataframe\">\n",
       "  <thead>\n",
       "    <tr style=\"text-align: right;\">\n",
       "      <th></th>\n",
       "      <th>Open</th>\n",
       "      <th>High</th>\n",
       "      <th>Low</th>\n",
       "      <th>Close</th>\n",
       "      <th>Adj Close</th>\n",
       "      <th>Volume</th>\n",
       "    </tr>\n",
       "    <tr>\n",
       "      <th>Date</th>\n",
       "      <th></th>\n",
       "      <th></th>\n",
       "      <th></th>\n",
       "      <th></th>\n",
       "      <th></th>\n",
       "      <th></th>\n",
       "    </tr>\n",
       "  </thead>\n",
       "  <tbody>\n",
       "    <tr>\n",
       "      <th>2022-03-21</th>\n",
       "      <td>390.738953</td>\n",
       "      <td>398.961731</td>\n",
       "      <td>386.561371</td>\n",
       "      <td>396.447815</td>\n",
       "      <td>396.447815</td>\n",
       "      <td>1657341491</td>\n",
       "    </tr>\n",
       "    <tr>\n",
       "      <th>2022-03-22</th>\n",
       "      <td>396.355591</td>\n",
       "      <td>409.642548</td>\n",
       "      <td>395.575745</td>\n",
       "      <td>404.314941</td>\n",
       "      <td>404.314941</td>\n",
       "      <td>1795119554</td>\n",
       "    </tr>\n",
       "    <tr>\n",
       "      <th>2022-03-23</th>\n",
       "      <td>404.327271</td>\n",
       "      <td>411.029572</td>\n",
       "      <td>398.855865</td>\n",
       "      <td>408.609772</td>\n",
       "      <td>408.609772</td>\n",
       "      <td>1645651129</td>\n",
       "    </tr>\n",
       "    <tr>\n",
       "      <th>2022-03-24</th>\n",
       "      <td>408.554260</td>\n",
       "      <td>416.505402</td>\n",
       "      <td>406.011566</td>\n",
       "      <td>414.126984</td>\n",
       "      <td>414.126984</td>\n",
       "      <td>1831451218</td>\n",
       "    </tr>\n",
       "    <tr>\n",
       "      <th>2022-03-25</th>\n",
       "      <td>414.239624</td>\n",
       "      <td>415.580750</td>\n",
       "      <td>411.876007</td>\n",
       "      <td>414.496826</td>\n",
       "      <td>414.496826</td>\n",
       "      <td>1743834112</td>\n",
       "    </tr>\n",
       "  </tbody>\n",
       "</table>\n",
       "</div>"
      ],
      "text/plain": [
       "                  Open        High         Low       Close   Adj Close  \\\n",
       "Date                                                                     \n",
       "2022-03-21  390.738953  398.961731  386.561371  396.447815  396.447815   \n",
       "2022-03-22  396.355591  409.642548  395.575745  404.314941  404.314941   \n",
       "2022-03-23  404.327271  411.029572  398.855865  408.609772  408.609772   \n",
       "2022-03-24  408.554260  416.505402  406.011566  414.126984  414.126984   \n",
       "2022-03-25  414.239624  415.580750  411.876007  414.496826  414.496826   \n",
       "\n",
       "                Volume  \n",
       "Date                    \n",
       "2022-03-21  1657341491  \n",
       "2022-03-22  1795119554  \n",
       "2022-03-23  1645651129  \n",
       "2022-03-24  1831451218  \n",
       "2022-03-25  1743834112  "
      ]
     },
     "execution_count": 4,
     "metadata": {},
     "output_type": "execute_result"
    }
   ],
   "source": [
    "data.tail()"
   ]
  },
  {
   "cell_type": "code",
   "execution_count": 5,
   "id": "b0b31170",
   "metadata": {},
   "outputs": [
    {
     "data": {
      "text/plain": [
       "Date\n",
       "2021-03-25    234.885437\n",
       "2021-03-26    255.104568\n",
       "2021-03-27    269.102325\n",
       "2021-03-28    269.191284\n",
       "2021-03-29    275.214630\n",
       "Name: Adj Close, dtype: float64"
      ]
     },
     "execution_count": 5,
     "metadata": {},
     "output_type": "execute_result"
    }
   ],
   "source": [
    "data['Adj Close'].head()"
   ]
  },
  {
   "cell_type": "code",
   "execution_count": 6,
   "id": "beb465e9",
   "metadata": {},
   "outputs": [
    {
     "data": {
      "text/plain": [
       "array([<AxesSubplot:xlabel='Date'>], dtype=object)"
      ]
     },
     "execution_count": 6,
     "metadata": {},
     "output_type": "execute_result"
    },
    {
     "data": {
      "image/png": "[encoded data removed]",
      "text/plain": [
       "<Figure size 720x720 with 1 Axes>"
      ]
     },
     "metadata": {
      "needs_background": "light"
     },
     "output_type": "display_data"
    }
   ],
   "source": [
    "data['Adj Close'].plot(figsize=(10, 10), subplots=True)#Shows price movement for the last year"
   ]
  },
  {
   "cell_type": "code",
   "execution_count": 7,
   "id": "00a93061",
   "metadata": {},
   "outputs": [
    {
     "data": {
      "text/plain": [
       "[0.0860808218975185,\n",
       " 0.05487066359231399,\n",
       " 0.00033057588814627446,\n",
       " 0.02237570939794986,\n",
       " 0.13157677341004606]"
      ]
     },
     "execution_count": 7,
     "metadata": {},
     "output_type": "execute_result"
    }
   ],
   "source": [
    "normal_return = []\n",
    "for i in range(0,len(data)-1):\n",
    "    adjclose_yesterday = data.iloc[i]['Adj Close']\n",
    "    adjclose_today = data.iloc[i+1]['Adj Close']\n",
    "    x = (adjclose_today - adjclose_yesterday) / adjclose_yesterday\n",
    "    normal_return.append(x)\n",
    "normal_return[:5]"
   ]
  },
  {
   "cell_type": "code",
   "execution_count": 8,
   "id": "70f1c6e3",
   "metadata": {},
   "outputs": [
    {
     "data": {
      "text/plain": [
       "[0.08257564037934838,\n",
       " 0.05341816566144049,\n",
       " 0.00033052125997615,\n",
       " 0.0221290459453118,\n",
       " 0.12361203479281384]"
      ]
     },
     "execution_count": 8,
     "metadata": {},
     "output_type": "execute_result"
    }
   ],
   "source": [
    "log_return = []\n",
    "for i in range(0,len(data)-1):\n",
    "    adjclose_yesterday = data.iloc[i]['Adj Close']\n",
    "    adjclose_today = data.iloc[i+1]['Adj Close']\n",
    "    y = np.log(adjclose_today / adjclose_yesterday)\n",
    "    log_return.append(y)\n",
    "log_return[:5]"
   ]
  },
  {
   "cell_type": "code",
   "execution_count": 9,
   "id": "27e593c4",
   "metadata": {},
   "outputs": [
    {
     "name": "stdout",
     "output_type": "stream",
     "text": [
      "The annulized normal return is 1.15041676 and its annulized volatility is 1.07028852\n"
     ]
    }
   ],
   "source": [
    "dfnr = pd.DataFrame(normal_return, columns = ['normal']) \n",
    "nr = dfnr.mean() * len(dfnr)\n",
    "nv = dfnr.std() * (len(dfnr) ** 0.5)\n",
    "print('The annulized normal return is %.8f and its annulized volatility is %.8f' % (nr,nv))\n"
   ]
  },
  {
   "cell_type": "code",
   "execution_count": 10,
   "id": "89239c27",
   "metadata": {},
   "outputs": [
    {
     "data": {
      "image/png": "[encoded data removed]",
      "text/plain": [
       "<Figure size 432x288 with 1 Axes>"
      ]
     },
     "metadata": {
      "needs_background": "light"
     },
     "output_type": "display_data"
    }
   ],
   "source": [
    "fig = plt.figure()\n",
    "plt.plot(data['Close'])\n",
    "plt.xlabel('Days')\n",
    "plt.ylabel('Price ($)')\n",
    "plt.title('Closed Price');"
   ]
  },
  {
   "cell_type": "code",
   "execution_count": 11,
   "id": "c052a243",
   "metadata": {},
   "outputs": [],
   "source": [
    "import os"
   ]
  },
  {
   "cell_type": "code",
   "execution_count": 12,
   "id": "9ff19dc5",
   "metadata": {},
   "outputs": [],
   "source": [
    "S0 = 249.47            # spot assest price as at 19:27 11/03/2022\n",
    "K = 500                 # strike\n",
    "T = 1.0                 # maturity \n",
    "r = 0.0152                 # risk free rate \n",
    "sig = 1.0703               # diffusion coefficient or volatility\n",
    "N = 3                   # number of periods or number of time steps  \n",
    "payoff = \"put\"          # payoff "
   ]
  },
  {
   "cell_type": "code",
   "execution_count": 13,
   "id": "14cac891",
   "metadata": {},
   "outputs": [],
   "source": [
    "dT = float(T) / N                             # Delta t\n",
    "u = np.exp(sig * np.sqrt(dT))                 # up factor\n",
    "d = 1.0 / u        "
   ]
  },
  {
   "cell_type": "code",
   "execution_count": 14,
   "id": "ac64a6a7",
   "metadata": {},
   "outputs": [],
   "source": [
    "S = np.zeros((N + 1, N + 1))\n",
    "S[0, 0] = S0\n",
    "z = 1\n",
    "for t in range(1, N + 1):\n",
    "    for i in range(z):\n",
    "        S[i, t] = S[i, t-1] * u\n",
    "        S[i+1, t] = S[i, t-1] * d\n",
    "    z += 1"
   ]
  },
  {
   "cell_type": "code",
   "execution_count": 15,
   "id": "c386418a",
   "metadata": {},
   "outputs": [
    {
     "data": {
      "text/plain": [
       "array([[ 249.47      ,  462.79151477,  858.52401547, 1592.64692983],\n",
       "       [   0.        ,  134.47800773,  249.47      ,  462.79151477],\n",
       "       [   0.        ,    0.        ,   72.49101921,  134.47800773],\n",
       "       [   0.        ,    0.        ,    0.        ,   39.07663383]])"
      ]
     },
     "execution_count": 15,
     "metadata": {},
     "output_type": "execute_result"
    }
   ],
   "source": [
    "S"
   ]
  },
  {
   "cell_type": "code",
   "execution_count": 16,
   "id": "f2e19fda",
   "metadata": {},
   "outputs": [
    {
     "data": {
      "text/plain": [
       "0.35411025928753287"
      ]
     },
     "execution_count": 16,
     "metadata": {},
     "output_type": "execute_result"
    }
   ],
   "source": [
    "a = np.exp(r * dT)    # risk free compound return\n",
    "p = (a - d)/ (u - d)  # risk neutral up probability\n",
    "q = 1.0 - p           # risk neutral down probability\n",
    "p"
   ]
  },
  {
   "cell_type": "code",
   "execution_count": 17,
   "id": "19698100",
   "metadata": {},
   "outputs": [
    {
     "data": {
      "text/plain": [
       "array([[  0.        ,   0.        ,   0.        ,   0.        ],\n",
       "       [  0.        ,   0.        ,   0.        ,  37.20848523],\n",
       "       [  0.        ,   0.        ,   0.        , 365.52199227],\n",
       "       [  0.        ,   0.        ,   0.        , 460.92336617]])"
      ]
     },
     "execution_count": 17,
     "metadata": {},
     "output_type": "execute_result"
    }
   ],
   "source": [
    "S_T = S[:,-1]\n",
    "V = np.zeros((N + 1, N + 1))\n",
    "if payoff ==\"call\":\n",
    "    V[:,-1] = np.maximum(S_T-K, 0.0)\n",
    "elif payoff ==\"put\":\n",
    "    V[:,-1] = np.maximum(K-S_T, 0.0)\n",
    "V\n"
   ]
  },
  {
   "cell_type": "code",
   "execution_count": 18,
   "id": "85367288",
   "metadata": {},
   "outputs": [
    {
     "data": {
      "text/plain": [
       "array([[290.77274477, 167.79748311,  23.91112176,   0.        ],\n",
       "       [  0.        , 360.48091022, 248.00307362,  37.20848523],\n",
       "       [  0.        ,   0.        , 424.98205441, 365.52199227],\n",
       "       [  0.        ,   0.        ,   0.        , 460.92336617]])"
      ]
     },
     "execution_count": 18,
     "metadata": {},
     "output_type": "execute_result"
    }
   ],
   "source": [
    "# for European Option\n",
    "for j in range(N-1, -1, -1):\n",
    "    for i in range(j+1):\n",
    "        V[i,j] = np.exp(-r*dT) * (p * V[i,j + 1] + q * V[i + 1,j + 1])\n",
    "V"
   ]
  },
  {
   "cell_type": "code",
   "execution_count": 19,
   "id": "8c194fcd",
   "metadata": {},
   "outputs": [
    {
     "name": "stdout",
     "output_type": "stream",
     "text": [
      "European put 290.7727447740869\n"
     ]
    }
   ],
   "source": [
    "print('European ' + payoff, str( V[0,0]))"
   ]
  },
  {
   "cell_type": "code",
   "execution_count": 20,
   "id": "0d040ddb",
   "metadata": {},
   "outputs": [
    {
     "data": {
      "text/plain": [
       "array([[294.58439467, 169.42135046,  23.91112176,   0.        ],\n",
       "       [  0.        , 365.52199227, 250.53      ,  37.20848523],\n",
       "       [  0.        ,   0.        , 427.50898079, 365.52199227],\n",
       "       [  0.        ,   0.        ,   0.        , 460.92336617]])"
      ]
     },
     "execution_count": 20,
     "metadata": {},
     "output_type": "execute_result"
    }
   ],
   "source": [
    "# for American Option\n",
    "if payoff ==\"call\":\n",
    "    for j in range(N-1, -1, -1):\n",
    "        for i in range(j+1):\n",
    "            V[i,j] = np.maximum(S[i,j] - K,np.exp(-r*dT) * (p * V[i,j + 1] + q * V[i + 1,j + 1]))\n",
    "elif payoff ==\"put\":\n",
    "    for j in range(N-1, -1, -1):\n",
    "        for i in range(j+1):\n",
    "            V[i,j] = np.maximum(K - S[i,j],np.exp(-r*dT) * (p * V[i,j + 1] + q * V[i + 1,j + 1]))\n",
    "V"
   ]
  },
  {
   "cell_type": "code",
   "execution_count": 21,
   "id": "70cd890c",
   "metadata": {},
   "outputs": [
    {
     "name": "stdout",
     "output_type": "stream",
     "text": [
      "American put 294.5843946728761\n"
     ]
    }
   ],
   "source": [
    "print('American ' + payoff, str( V[0,0]))"
   ]
  },
  {
   "cell_type": "code",
   "execution_count": 22,
   "id": "0468756b",
   "metadata": {},
   "outputs": [],
   "source": [
    "def mcs_simulation_np(p):\n",
    "    M = p\n",
    "    I = p\n",
    "    dt = T / M \n",
    "    S = np.zeros((M + 1, I))\n",
    "    S[0] = S0 \n",
    "    rn = np.random.standard_normal(S.shape) \n",
    "    for t in range(1, M + 1): \n",
    "        S[t] = S[t-1] * np.exp((r - sigma ** 2 / 2) * dt + sigma * np.sqrt(dt) * rn[t]) \n",
    "    return S"
   ]
  },
  {
   "cell_type": "code",
   "execution_count": 23,
   "id": "9b10a18b",
   "metadata": {},
   "outputs": [],
   "source": [
    "T = 1/52\n",
    "r = 0.0152\n",
    "sigma = 1.0703 \n",
    "S0 = 249.47\n",
    "K = 500"
   ]
  },
  {
   "cell_type": "code",
   "execution_count": 24,
   "id": "95f3218d",
   "metadata": {},
   "outputs": [],
   "source": [
    "S = mcs_simulation_np(1000)"
   ]
  },
  {
   "cell_type": "code",
   "execution_count": 25,
   "id": "80f4ff5e",
   "metadata": {},
   "outputs": [
    {
     "data": {
      "text/plain": [
       "array([[249.47      , 252.11681313, 250.73648327, ..., 312.23784631,\n",
       "        313.05797536, 311.35691299],\n",
       "       [249.47      , 250.76878504, 249.84308979, ..., 220.1489083 ,\n",
       "        218.88236418, 218.24356017],\n",
       "       [249.47      , 250.74916941, 249.45401214, ..., 186.29027388,\n",
       "        184.92343481, 184.92771226],\n",
       "       ...,\n",
       "       [249.47      , 247.28041894, 248.88968642, ..., 268.4969599 ,\n",
       "        268.59760066, 269.95675037],\n",
       "       [249.47      , 247.10770273, 246.64368127, ..., 140.76234348,\n",
       "        141.48228815, 141.48529788],\n",
       "       [249.47      , 248.82417684, 248.44573337, ..., 274.86017601,\n",
       "        276.25366136, 275.64881726]])"
      ]
     },
     "execution_count": 25,
     "metadata": {},
     "output_type": "execute_result"
    }
   ],
   "source": [
    "S = np.transpose(S)\n",
    "S"
   ]
  },
  {
   "cell_type": "code",
   "execution_count": 33,
   "id": "3b07a71b",
   "metadata": {},
   "outputs": [
    {
     "data": {
      "text/plain": [
       "Text(0.5, 1.0, 'Frequency distribution of the simulated end-of-preiod values')"
      ]
     },
     "execution_count": 33,
     "metadata": {},
     "output_type": "execute_result"
    },
    {
     "data": {
      "image/png": "[encoded data removed]",
      "text/plain": [
       "<Figure size 432x288 with 1 Axes>"
      ]
     },
     "metadata": {
      "needs_background": "light"
     },
     "output_type": "display_data"
    }
   ],
   "source": [
    "import matplotlib.pyplot as plt\n",
    "n, bins, patches = plt.hist(x=S[:,-1], bins='auto', color='#32cd32',alpha=1, rwidth=2.5)\n",
    "\n",
    "plt.grid(axis='y', alpha=0.95)\n",
    "plt.xlabel('S_T')\n",
    "plt.ylabel('Frequency')\n",
    "plt.title('Frequency distribution of the simulated end-of-preiod values')"
   ]
  },
  {
   "cell_type": "code",
   "execution_count": 34,
   "id": "d7a2cc4a",
   "metadata": {},
   "outputs": [
    {
     "name": "stdout",
     "output_type": "stream",
     "text": [
      "European put 250.9330887840588\n"
     ]
    }
   ],
   "source": [
    "p = np.mean(np.maximum(K - S[:,-1],0))\n",
    "print('European put', str(p))"
   ]
  },
  {
   "cell_type": "code",
   "execution_count": 28,
   "id": "f591bfc1",
   "metadata": {},
   "outputs": [
    {
     "name": "stdout",
     "output_type": "stream",
     "text": [
      "European call 0.0\n"
     ]
    }
   ],
   "source": [
    "c = np.mean(np.maximum(S[:,-1] - K,0))\n",
    "print('European call', str(c))"
   ]
  },
  {
   "cell_type": "code",
   "execution_count": null,
   "id": "661519b8",
   "metadata": {},
   "outputs": [],
   "source": []
  }
 ],
 "metadata": {
  "kernelspec": {
   "display_name": "Python 3 (ipykernel)",
   "language": "python",
   "name": "python3"
  },
  "language_info": {
   "codemirror_mode": {
    "name": "ipython",
    "version": 3
   },
   "file_extension": ".py",
   "mimetype": "text/x-python",
   "name": "python",
   "nbconvert_exporter": "python",
   "pygments_lexer": "ipython3",
   "version": "3.9.7"
  }
 },
 "nbformat": 4,
 "nbformat_minor": 5
}
